{
  "nbformat": 4,
  "nbformat_minor": 0,
  "metadata": {
    "colab": {
      "name": "Project2_Make_KoEDA.ipynb",
      "provenance": [],
      "collapsed_sections": []
    },
    "kernelspec": {
      "name": "python3",
      "display_name": "Python 3"
    },
    "language_info": {
      "name": "python"
    }
  },
  "cells": [
    {
      "cell_type": "code",
      "source": [
        "### label에 조사 있는지 파악 ###\n",
        "from konlpy.tag import Twitter\n",
        " \n",
        "twitter = Twitter()\n",
        "twitter.pos('나는 밥을 먹는다')\n",
        "\n",
        "count = 0\n",
        "for i in range(len(dataset)):\n",
        "  for word, tag in twitter.pos(dataset[i]['answers'][0]['text']):\n",
        "    if tag == 'Josa':\n",
        "      count += 1\n",
        "\n",
        "print(f'조사가 포함된 answers 수: {count}')\n",
        "print(f'전체 answer에서 조사 비율: {count/len(dataset)*100}%')"
      ],
      "metadata": {
        "id": "5Ugkf0MCRCs0"
      },
      "execution_count": null,
      "outputs": []
    },
    {
      "cell_type": "code",
      "execution_count": null,
      "metadata": {
        "id": "ZGW2yetbQ5Dc"
      },
      "outputs": [],
      "source": [
        "### 발표용 KoEDA 예시 ###\n",
        "with open(path + 'train.json', 'r', encoding='utf-8') as fd:\n",
        "  data = json.load(fd)\n",
        "\n",
        "from koeda import EDA\n",
        "\n",
        "eda = EDA(morpheme_analyzer=\"Okt\", alpha_sr=0.1, alpha_ri=0.1, alpha_rs=0.1, prob_rd=0.1)\n",
        "\n",
        "data['data'].append(data['data'][0])\n",
        "context = data['data'][0]['paragraphs'][0]['context']\n",
        "answer = data['data'][0]['paragraphs'][0]['qas'][0]['answers'][0]['text']\n",
        "new_context = eda(context, p=(0.1, 0.1, 0.1, 0.1), repetition=1)\n",
        "answer = data['data'][0]['paragraphs'][0]['qas'][0]['answers'][0]['text']\n",
        "\n",
        "print(context)\n",
        "print(new_context)\n",
        "print(answer)\n",
        "\n",
        "answer in new_context"
      ]
    },
    {
      "cell_type": "code",
      "source": [
        "# 최초 한 번만 실행\n",
        "# KoEDA data 생성\n",
        "\n",
        "with open(path + 'train.json', 'r', encoding='utf-8') as fd:\n",
        "  data = json.load(fd)\n",
        "\n",
        "import copy\n",
        "from tqdm import tqdm\n",
        "from koeda import EDA\n",
        "\n",
        "eda = EDA(morpheme_analyzer=\"Okt\", alpha_sr=0.1, alpha_ri=0.1, alpha_rs=0.1, prob_rd=0.1)\n",
        "\n",
        "length = len(data['data']) \n",
        "print(f'원본 data 길이: {length}')\n",
        "new_data = copy.deepcopy(data)\n",
        "\n",
        "for idx in tqdm(range(length)):\n",
        "  context = data['data'][idx]['paragraphs'][0]['context']\n",
        "  answer = data['data'][idx]['paragraphs'][0]['qas'][0]['answers'][0]['text']\n",
        "\n",
        "  while True:\n",
        "    new_context = eda(context, p=(0.7, 0.7, 0.7, 0.7), repetition=1)\n",
        "    if (answer in new_context) and (context != new_context):\n",
        "      break\n",
        "  \n",
        "  new_data['data'][idx]['paragraphs'][0]['context'] = new_context\n",
        "\n",
        "print('\\n', f'augmentation data 길이: ', len(new_data['data']), '\\n')\n",
        "print(data['data'][0])\n",
        "print(new_data['data'][0])"
      ],
      "metadata": {
        "id": "gnS9crbuREDx"
      },
      "execution_count": null,
      "outputs": []
    },
    {
      "cell_type": "code",
      "source": [
        "# new_data의 answer_start 변경\n",
        "for idx in range(len(new_data['data'])):\n",
        "  context = new_data['data'][idx]['paragraphs'][0]['context']\n",
        "  answer = new_data['data'][idx]['paragraphs'][0]['qas'][0]['answers'][0]['text']\n",
        "  answer_start = context.find(answer)\n",
        "  new_data['data'][idx]['paragraphs'][0]['qas'][0]['answers'][0]['answer_start'] = answer_start\n",
        "\n",
        "print(data['data'][0]['paragraphs'][0]['context'])\n",
        "print(data['data'][0]['paragraphs'][0]['qas'][0]['answers'][0]['answer_start'])\n",
        "print(new_data['data'][0]['paragraphs'][0]['context'])\n",
        "print(new_data['data'][0]['paragraphs'][0]['qas'][0]['answers'][0]['answer_start'])"
      ],
      "metadata": {
        "id": "GNT6-CFCRGiv"
      },
      "execution_count": null,
      "outputs": []
    },
    {
      "cell_type": "code",
      "source": [
        "# 기존 data와 new_data 병합\n",
        "length = len(new_data['data'])\n",
        "for idx in range(length):\n",
        "  data['data'].append(new_data['data'][idx])\n",
        "\n",
        "print(len(data['data']))\n",
        "print(data['data'][9789])\n",
        "\n",
        "# 병합 파일 저장\n",
        "with open(path + 'KoEDA_train.json', 'w') as new:\n",
        "  json.dump(data, new)"
      ],
      "metadata": {
        "id": "oPrbULmPRHrV"
      },
      "execution_count": null,
      "outputs": []
    }
  ]
}