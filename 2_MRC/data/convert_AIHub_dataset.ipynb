{
 "cells": [
  {
   "cell_type": "code",
   "execution_count": 7,
   "metadata": {},
   "outputs": [],
   "source": [
    "import json\n",
    "\n",
    "length = 10000\n",
    "with open('TL_span_extraction.json', 'r', encoding='utf-8') as fd:\n",
    "    data = json.load(fd)\n",
    "\n",
    "data['data'] = data['data'][:length]\n",
    "\n",
    "for d_id in range(len(data['data'])):\n",
    "    for p_id in range(len(data['data'][d_id]['paragraphs'])):\n",
    "        data['data'][d_id]['paragraphs'][p_id]['context']= data['data'][d_id]['paragraphs'][p_id]['context'].replace('\\n','')\n",
    "        for q_id in range(len(data['data'][d_id]['paragraphs'][p_id]['qas'])):\n",
    "            data['data'][d_id]['paragraphs'][p_id]['qas'][q_id]['guid'] = None\n",
    "            data['data'][d_id]['paragraphs'][p_id]['qas'][q_id]['question'] += '?'\n",
    "            data['data'][d_id]['paragraphs'][p_id]['qas'][q_id]['answers'] = \\\n",
    "            [data['data'][d_id]['paragraphs'][p_id]['qas'][q_id]['answers']]\n",
    "\n",
    "with open('AIHub_%d.json'%length, 'w', encoding='utf-8') as fd:\n",
    "    json.dump(data, fd)\n",
    "\n",
    "with open('KoEDA_train.json', 'r', encoding='utf-8') as fd:\n",
    "    data['data'] = data['data'] + json.load(fd)['data']\n",
    "\n",
    "with open(f'AIHub_KoEDA_train.json', 'w', encoding='utf-8') as fd:\n",
    "    json.dump(data, fd)"
   ]
  },
  {
   "cell_type": "code",
   "execution_count": null,
   "metadata": {},
   "outputs": [],
   "source": []
  }
 ],
 "metadata": {
  "kernelspec": {
   "display_name": "Python 3.8.10 64-bit",
   "language": "python",
   "name": "python3"
  },
  "language_info": {
   "codemirror_mode": {
    "name": "ipython",
    "version": 3
   },
   "file_extension": ".py",
   "mimetype": "text/x-python",
   "name": "python",
   "nbconvert_exporter": "python",
   "pygments_lexer": "ipython3",
   "version": "3.8.10"
  },
  "orig_nbformat": 4,
  "vscode": {
   "interpreter": {
    "hash": "fbe58ca63fe33f9eeae9e71d10368d2b4a57f2b1b395836210cc60d362c66949"
   }
  }
 },
 "nbformat": 4,
 "nbformat_minor": 2
}
