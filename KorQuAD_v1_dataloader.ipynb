{
  "nbformat": 4,
  "nbformat_minor": 0,
  "metadata": {
    "colab": {
      "name": "KorQuAD_v1 dataloader",
      "provenance": [],
      "collapsed_sections": [],
      "authorship_tag": "ABX9TyMUZL9b8rpyi9pb0wEhvqhF",
      "include_colab_link": true
    },
    "kernelspec": {
      "name": "python3",
      "display_name": "Python 3"
    },
    "language_info": {
      "name": "python"
    }
  },
  "cells": [
    {
      "cell_type": "markdown",
      "metadata": {
        "id": "view-in-github",
        "colab_type": "text"
      },
      "source": [
        "<a href=\"https://colab.research.google.com/github/Koowater/goorm-Magicians/blob/main/KorQuAD_v1_dataloader.ipynb\" target=\"_parent\"><img src=\"https://colab.research.google.com/assets/colab-badge.svg\" alt=\"Open In Colab\"/></a>"
      ]
    },
    {
      "cell_type": "code",
      "execution_count": null,
      "metadata": {
        "id": "ROdB1JDjzy16"
      },
      "outputs": [],
      "source": [
        "from typing import List, Tuple, Dict, Any\n",
        "import json\n",
        "import random\n",
        "\n",
        "class KorquadV1MRC:\n",
        "    def __init__(self, data, indices):\n",
        "        self._data = data\n",
        "        self._indices = indices\n",
        "\n",
        "    @classmethod\n",
        "    def load(cls, file_path: str):\n",
        "        with open(file_path, 'r', encoding='utf-8') as fd:\n",
        "            data = json.load(fd)\n",
        "\n",
        "        indices = []\n",
        "        for d_id, document in enumerate(data['data']):\n",
        "            for p_id, paragraph in enumerate(document['paragraphs']):\n",
        "                for q_id, _ in enumerate(paragraph['qas']):\n",
        "                    indices.append((d_id, p_id, q_id))\n",
        "\n",
        "        return cls(data, indices)\n",
        "\n",
        "    @classmethod\n",
        "    def split(cls, dataset, eval_ratio: float=.1, seed=42):\n",
        "      indices = list(dataset._indices)\n",
        "      random.seed(seed)\n",
        "      random.shuffle(indices)\n",
        "      train_indices = indices[int(len(indices) * eval_ratio):]\n",
        "      eval_indices = indices[:int(len(indices) * eval_ratio)]\n",
        "\n",
        "      return cls(dataset._data, train_indices), cls(dataset._data, eval_indices)\n",
        "\n",
        "    def __getitem__(self, index: int) -> Dict[str, Any]:\n",
        "        d_id, p_id, q_id = self._indices[index]\n",
        "        paragraph = self._data['data'][d_id]['paragraphs'][p_id]\n",
        "\n",
        "        context = paragraph['context']\n",
        "        qa = paragraph['qas'][q_id]\n",
        "\n",
        "        guid = qa['id']       #['guid'] 질문의 고유번호가 바뀐것을 제외하고는 차이가 없음\n",
        "        question = qa['question']\n",
        "        answers = qa['answers']\n",
        "\n",
        "        return {\n",
        "            'guid': guid,\n",
        "            'context': context,\n",
        "            'question': question,\n",
        "            'answers': answers\n",
        "        }\n",
        "\n",
        "    def __len__(self) -> int:\n",
        "      return len(self._indices)"
      ]
    }
  ]
}